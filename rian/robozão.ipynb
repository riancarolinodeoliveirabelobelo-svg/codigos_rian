{
 "cells": [
  {
   "cell_type": "code",
   "execution_count": 23,
   "id": "c911afe3",
   "metadata": {},
   "outputs": [],
   "source": [
    "#estou importndo o pyautogui e aprlidando ele de aut\n",
    "import pyautogui as aut\n",
    "\n",
    "#pressiono a tecla de atalho win +r\n",
    "aut.hotkey(\"win\", \"r\")\n",
    "#escreva notepad\n",
    "aut.write(\"chrome\", interval=0.2)\n",
    "#espera 1 segundo\n",
    "aut.sleep(1)\n",
    "#aperta o EnvironmentError\n",
    "aut.press(\"enter\")\n",
    "aut.sleep(1)\n",
    "aut.write(\"youtube.com\", interval= 0.1)\n",
    "aut.press('enter')\n",
    "aut.sleep(2)\n",
    "aut.moveTo(760,115)\n",
    "aut.sleep(5)\n",
    "aut.click()\n",
    "aut.sleep(1)\n",
    "aut.write(\"o dino q nn tinha pai \", interval= 0.2)\n",
    "aut.sleep(1)\n",
    "aut.press(\"enter\")\n",
    "aut.sleep(1)\n",
    "aut.moveTo(705,359)\n",
    "aut.sleep(1)\n",
    "aut.click()\n",
    "# aut.moveTo(139,201)\n",
    "# aut.click()\n",
    "# aut.sleep(1)\n",
    "# aut.write('professor top', interval =0.2)"
   ]
  },
  {
   "cell_type": "code",
   "execution_count": 18,
   "id": "aaee231d",
   "metadata": {},
   "outputs": [],
   "source": [
    "#Pega a informação do mouse\n",
    "aut.mouseInfo()\n"
   ]
  },
  {
   "cell_type": "markdown",
   "id": "7fac0cf4",
   "metadata": {},
   "source": [
    "### Bloco de notas"
   ]
  },
  {
   "cell_type": "code",
   "execution_count": 39,
   "id": "05d73a17",
   "metadata": {},
   "outputs": [],
   "source": [
    "#pressiono a tecla de atalho win +r\n",
    "aut.press('win')\n",
    "#escreva notepad\n",
    "aut.write('bloco de notas', interval=0.3)\n",
    "#espera 1 segundo\n",
    "aut.sleep(1)\n",
    "#aperta o EnvironmentError\n",
    "aut.press('enter')\n",
    "aut.moveTo(1302,1055)\n",
    "aut.click()\n",
    "aut.sleep(2.5)\n",
    "aut.moveTo(579,319)\n",
    "aut.click()\n",
    "aut.sleep(1)\n",
    "aut.write('professor top', interval =0.2)"
   ]
  },
  {
   "cell_type": "markdown",
   "id": "7f60e16b",
   "metadata": {},
   "source": [
    "### Calculadora\n"
   ]
  },
  {
   "cell_type": "code",
   "execution_count": 28,
   "id": "209aef2f",
   "metadata": {},
   "outputs": [],
   "source": [
    "aut.press('win')\n",
    "aut.sleep(1)\n",
    "aut.write('calculadora', interval=0.2)\n",
    "aut.sleep(1)\n",
    "aut.press('enter')\n",
    "aut.moveTo(112,379)\n",
    "aut.sleep(0.5)\n",
    "aut.click()\n",
    "aut.sleep(0.5)\n",
    "aut.moveTo(349,486)\n",
    "aut.sleep(0.5)\n",
    "aut.click()\n",
    "aut.sleep(0.5)\n",
    "aut.moveTo(194,385)\n",
    "aut.sleep(0.5)\n",
    "aut.click()\n",
    "aut.sleep(0.5)\n",
    "aut.moveTo(355,529)\n",
    "aut.sleep(0.5)\n",
    "aut.click()"
   ]
  },
  {
   "cell_type": "markdown",
   "id": "c1bb934f",
   "metadata": {},
   "source": [
    "### Paint"
   ]
  },
  {
   "cell_type": "code",
   "execution_count": 38,
   "id": "9e97c0a4",
   "metadata": {},
   "outputs": [],
   "source": [
    "aut.press(\"Win\")\n",
    "aut.sleep(0.5)\n",
    "aut.write('paint', interval=0.2)\n",
    "aut.sleep(0.5)\n",
    "aut.press('enter')"
   ]
  }
 ],
 "metadata": {
  "kernelspec": {
   "display_name": "Python 3",
   "language": "python",
   "name": "python3"
  },
  "language_info": {
   "codemirror_mode": {
    "name": "ipython",
    "version": 3
   },
   "file_extension": ".py",
   "mimetype": "text/x-python",
   "name": "python",
   "nbconvert_exporter": "python",
   "pygments_lexer": "ipython3",
   "version": "3.13.2"
  }
 },
 "nbformat": 4,
 "nbformat_minor": 5
}
